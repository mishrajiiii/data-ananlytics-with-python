{
 "cells": [
  {
   "cell_type": "code",
   "execution_count": 10,
   "id": "67890497",
   "metadata": {},
   "outputs": [
    {
     "data": {
      "image/png": "[encoded data removed]",
      "text/plain": [
       "<Figure size 432x288 with 1 Axes>"
      ]
     },
     "metadata": {
      "needs_background": "light"
     },
     "output_type": "display_data"
    }
   ],
   "source": [
    "import matplotlib.pyplot as plt\n",
    "import numpy as np\n",
    "TIME_OF_DAY = ['7','8','9','10','11','12','13','14','15','16','17','18','19','20','21','22','23','24','1']\n",
    "PRODUCTIVITY_LEVEL = [2,3,4,5,4,3,2,1,0,3,4,5,5,5,5,4,3,2,1]\n",
    "plt.title('BAR CHART OF PRODUCTIVITY LEVEL')\n",
    "plt.bar(TIME_OF_DAY,PRODUCTIVITY_LEVEL,align='center')\n",
    "plt.show()"
   ]
  },
  {
   "cell_type": "code",
   "execution_count": 12,
   "id": "380a17cc",
   "metadata": {},
   "outputs": [
    {
     "name": "stdout",
     "output_type": "stream",
     "text": [
      "result:-\n",
      "In the morining time we are refreshed so the productivity level increases till afternoon\n",
      "after afternoon the level gradually decreses as we are tired and need somee break. so it becomes 0 at some moment of time\n",
      "after a short nap we are fully energetic and come back to work for a longer period of time\n",
      "then at night due to much work load we have complted in evening ,we are tired and go off to sleep\n"
     ]
    }
   ],
   "source": [
    "print('result:-')\n",
    "print(\"In the morining time we are refreshed so the productivity level increases till afternoon\")\n",
    "print(\"after afternoon the level gradually decreses as we are tired and need somee break. so it becomes 0 at some moment of time\")\n",
    "print(\"after a short nap we are fully energetic and come back to work for a longer period of time\")\n",
    "print(\"then at night due to much work load we have complted in evening ,we are tired and go off to sleep\")\n",
    "          "
   ]
  },
  {
   "cell_type": "code",
   "execution_count": null,
   "id": "dd399e52",
   "metadata": {},
   "outputs": [],
   "source": []
  }
 ],
 "metadata": {
  "kernelspec": {
   "display_name": "Python 3 (ipykernel)",
   "language": "python",
   "name": "python3"
  },
  "language_info": {
   "codemirror_mode": {
    "name": "ipython",
    "version": 3
   },
   "file_extension": ".py",
   "mimetype": "text/x-python",
   "name": "python",
   "nbconvert_exporter": "python",
   "pygments_lexer": "ipython3",
   "version": "3.9.7"
  }
 },
 "nbformat": 4,
 "nbformat_minor": 5
}
