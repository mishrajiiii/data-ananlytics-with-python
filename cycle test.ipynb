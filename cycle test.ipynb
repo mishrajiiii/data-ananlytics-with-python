{
 "cells": [
  {
   "cell_type": "code",
   "execution_count": 10,
   "id": "86c4da1d",
   "metadata": {},
   "outputs": [
    {
     "data": {
      "image/png": "[encoded data removed]",
      "text/plain": [
       "<Figure size 432x288 with 1 Axes>"
      ]
     },
     "metadata": {
      "needs_background": "light"
     },
     "output_type": "display_data"
    }
   ],
   "source": [
    "import matplotlib.pyplot as plt\n",
    "import numpy as np\n",
    "year = ['CT-1/1','CT-1/2','CT-2/1','CT-2/2','CT-3/1','CT-3/2','CT-4/1']\n",
    "marks = [9.1,8.9,8.7,8.9,8.6,8.7,9.0]\n",
    "plt.title('BAR CHART OF CYCLE TESTS')\n",
    "plt.bar(year,marks,align='center')\n",
    "plt.show()"
   ]
  },
  {
   "cell_type": "code",
   "execution_count": null,
   "id": "cd5e98c8",
   "metadata": {},
   "outputs": [],
   "source": []
  }
 ],
 "metadata": {
  "kernelspec": {
   "display_name": "Python 3 (ipykernel)",
   "language": "python",
   "name": "python3"
  },
  "language_info": {
   "codemirror_mode": {
    "name": "ipython",
    "version": 3
   },
   "file_extension": ".py",
   "mimetype": "text/x-python",
   "name": "python",
   "nbconvert_exporter": "python",
   "pygments_lexer": "ipython3",
   "version": "3.9.7"
  }
 },
 "nbformat": 4,
 "nbformat_minor": 5
}
